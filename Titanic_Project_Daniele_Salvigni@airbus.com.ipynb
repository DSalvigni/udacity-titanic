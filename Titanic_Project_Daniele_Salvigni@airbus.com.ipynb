{
 "cells": [
  {
   "cell_type": "markdown",
   "metadata": {},
   "source": [
    "# Investigate with Jupyter(Python) dataset - Titanic Project\n",
    "Titanic dataframe - Contains demographics and passenger information from 891 of the 2224 passengers and crew on board the Titanic. Main scope of the anaylis is to discover the factors which made people more likely to survive.\n",
    "\n",
    "- dataset: titanic_df.csv (Source: https://www.kaggle.com/c/titanic/df)\n",
    "- Analysis: developed by Daniele Salvigni (***daniele.salvigni@airbus.com***)\n",
    "- platform: Python 3.x/Jupyter/Anaconda 3.x distr.\n",
    "\n",
    "**The CSV(titanic_data.csv)file presents the following headers:**\n",
    "- PassengerId -> Unique ID of the passenger\n",
    "- Survived -> If the passenger is survived (0 = No; 1 = Yes)\n",
    "- Pclass -> Class of the Passenger (1 = 1st // 2 = 2nd // 3 = 3rd)\n",
    "- Name -> Name of the passenger\n",
    "- Sex -> Sex of the passenger\n",
    "- Age -> Age of the passenger\n",
    "- sibsp -> # of siblings / spouses aboard the Titanic\t\n",
    "- parch -> # of parents / children aboard the Titanic\t\n",
    "- ticket -> Ticket number\t\n",
    "- fare -> Passenger fare\t\n",
    "- cabin -> Cabin number\t\n",
    "- embarked -> Port of Embarkation (C = Cherbourg, Q = Queenstown, S = Southampton)\n",
    "\n",
    "\n",
    "# Variable Notes\n",
    "**pclass:**\n",
    "A proxy for socio-economic status (SES)\n",
    "1st = Upper\n",
    "2nd = Middle\n",
    "3rd = Lower\n",
    "\n",
    "**age:** \n",
    "Age is fractional if less than 1. If the age is estimated, is it in the form of xx.5\n",
    "\n",
    "**sibsp:** \n",
    "The dataset defines family relations in this way...\n",
    "Sibling = brother, sister, stepbrother, stepsister\n",
    "Spouse = husband, wife (mistresses and fiancés were ignored)\n",
    "\n",
    "**parch:** \n",
    "The dataset defines family relations in this way...\n",
    "Parent = mother, father\n",
    "Child = daughter, son, stepdaughter, stepson\n",
    "Some children travelled only with a nanny, therefore parch=0 for them.\n",
    "\n",
    "# Questions linked to the nature of the dataset:\n",
    "- **a) Does the survival rate depend on the social status (SES)?**\n",
    "- **b) Did a specific category(Men/Women/Children) have more chances to survive?**\n",
    "- **c) Did married have women better survival rate Vs not married women? Was the Sex type relevant?** \n",
    "- **e) Was the age relavant to increase their chances of survival?**\n",
    "\n",
    "***Assumptions***\n",
    "Everybody who was able to reach a lifeboat had the chance to survive."
   ]
  },
  {
   "cell_type": "code",
   "execution_count": 11,
   "metadata": {
    "collapsed": false
   },
   "outputs": [
    {
     "name": "stdout",
     "output_type": "stream",
     "text": [
      "Header sample extraction from the dataset:\n"
     ]
    },
    {
     "data": {
      "text/html": [
       "<div>\n",
       "<table border=\"1\" class=\"dataframe\">\n",
       "  <thead>\n",
       "    <tr style=\"text-align: right;\">\n",
       "      <th></th>\n",
       "      <th>PassengerId</th>\n",
       "      <th>Survived</th>\n",
       "      <th>Pclass</th>\n",
       "      <th>Name</th>\n",
       "      <th>Sex</th>\n",
       "      <th>Age</th>\n",
       "      <th>SibSp</th>\n",
       "      <th>Parch</th>\n",
       "      <th>Ticket</th>\n",
       "      <th>Fare</th>\n",
       "      <th>Cabin</th>\n",
       "      <th>Embarked</th>\n",
       "    </tr>\n",
       "  </thead>\n",
       "  <tbody>\n",
       "    <tr>\n",
       "      <th>0</th>\n",
       "      <td>1</td>\n",
       "      <td>0</td>\n",
       "      <td>3</td>\n",
       "      <td>Braund, Mr. Owen Harris</td>\n",
       "      <td>male</td>\n",
       "      <td>22.0</td>\n",
       "      <td>1</td>\n",
       "      <td>0</td>\n",
       "      <td>A/5 21171</td>\n",
       "      <td>7.2500</td>\n",
       "      <td>NaN</td>\n",
       "      <td>S</td>\n",
       "    </tr>\n",
       "    <tr>\n",
       "      <th>1</th>\n",
       "      <td>2</td>\n",
       "      <td>1</td>\n",
       "      <td>1</td>\n",
       "      <td>Cumings, Mrs. John Bradley (Florence Briggs Th...</td>\n",
       "      <td>female</td>\n",
       "      <td>38.0</td>\n",
       "      <td>1</td>\n",
       "      <td>0</td>\n",
       "      <td>PC 17599</td>\n",
       "      <td>71.2833</td>\n",
       "      <td>C85</td>\n",
       "      <td>C</td>\n",
       "    </tr>\n",
       "    <tr>\n",
       "      <th>2</th>\n",
       "      <td>3</td>\n",
       "      <td>1</td>\n",
       "      <td>3</td>\n",
       "      <td>Heikkinen, Miss. Laina</td>\n",
       "      <td>female</td>\n",
       "      <td>26.0</td>\n",
       "      <td>0</td>\n",
       "      <td>0</td>\n",
       "      <td>STON/O2. 3101282</td>\n",
       "      <td>7.9250</td>\n",
       "      <td>NaN</td>\n",
       "      <td>S</td>\n",
       "    </tr>\n",
       "    <tr>\n",
       "      <th>3</th>\n",
       "      <td>4</td>\n",
       "      <td>1</td>\n",
       "      <td>1</td>\n",
       "      <td>Futrelle, Mrs. Jacques Heath (Lily May Peel)</td>\n",
       "      <td>female</td>\n",
       "      <td>35.0</td>\n",
       "      <td>1</td>\n",
       "      <td>0</td>\n",
       "      <td>113803</td>\n",
       "      <td>53.1000</td>\n",
       "      <td>C123</td>\n",
       "      <td>S</td>\n",
       "    </tr>\n",
       "    <tr>\n",
       "      <th>4</th>\n",
       "      <td>5</td>\n",
       "      <td>0</td>\n",
       "      <td>3</td>\n",
       "      <td>Allen, Mr. William Henry</td>\n",
       "      <td>male</td>\n",
       "      <td>35.0</td>\n",
       "      <td>0</td>\n",
       "      <td>0</td>\n",
       "      <td>373450</td>\n",
       "      <td>8.0500</td>\n",
       "      <td>NaN</td>\n",
       "      <td>S</td>\n",
       "    </tr>\n",
       "  </tbody>\n",
       "</table>\n",
       "</div>"
      ],
      "text/plain": [
       "   PassengerId  Survived  Pclass  \\\n",
       "0            1         0       3   \n",
       "1            2         1       1   \n",
       "2            3         1       3   \n",
       "3            4         1       1   \n",
       "4            5         0       3   \n",
       "\n",
       "                                                Name     Sex   Age  SibSp  \\\n",
       "0                            Braund, Mr. Owen Harris    male  22.0      1   \n",
       "1  Cumings, Mrs. John Bradley (Florence Briggs Th...  female  38.0      1   \n",
       "2                             Heikkinen, Miss. Laina  female  26.0      0   \n",
       "3       Futrelle, Mrs. Jacques Heath (Lily May Peel)  female  35.0      1   \n",
       "4                           Allen, Mr. William Henry    male  35.0      0   \n",
       "\n",
       "   Parch            Ticket     Fare Cabin Embarked  \n",
       "0      0         A/5 21171   7.2500   NaN        S  \n",
       "1      0          PC 17599  71.2833   C85        C  \n",
       "2      0  STON/O2. 3101282   7.9250   NaN        S  \n",
       "3      0            113803  53.1000  C123        S  \n",
       "4      0            373450   8.0500   NaN        S  "
      ]
     },
     "execution_count": 11,
     "metadata": {},
     "output_type": "execute_result"
    }
   ],
   "source": [
    "#Upload dfset and start Analysis of the df\n",
    "\n",
    "#Import libraries\n",
    "import matplotlib.pyplot as plt\n",
    "import seaborn as sns\n",
    "import pandas as pd\n",
    "import numpy as np\n",
    "import warnings\n",
    "\n",
    "#Suppress all warning which are very annoying ...\\_(シ)_/...\n",
    "warnings.filterwarnings('ignore')\n",
    "\n",
    "#Magic render\n",
    "%matplotlib inline\n",
    "\n",
    "# Create pandas dataframe\n",
    "df = pd.read_csv('titanic_data.csv')\n",
    "\n",
    "# Print first sample rows from csv\n",
    "print('Header sample extraction from the dataset:')\n",
    "df.head()\n",
    "\n"
   ]
  },
  {
   "cell_type": "markdown",
   "metadata": {},
   "source": [
    "***Comment:***\n",
    "\n",
    "- Some df are \"NaN\". \n",
    "- Some df are not required for my analysis. I will need the following subset:\n",
    "    - Survived\n",
    "    - Pclass\n",
    "    - Sex\n",
    "    - Age\n",
    "    - SibSp\n",
    "    - parch\n",
    "- Some df needs to be casted (Nice to have the TypeOf set up in the right way for all the dftype involved: INT,STR etc...)\n",
    "- Some lines can be duplicated"
   ]
  },
  {
   "cell_type": "code",
   "execution_count": 2,
   "metadata": {
    "collapsed": false
   },
   "outputs": [
    {
     "name": "stdout",
     "output_type": "stream",
     "text": [
      "- Number of total rows:892\n",
      "- No Duplicates found!\n",
      "- I found the following duplicates in the \"df.head\" print out, for Sex column: 3\n",
      "\n"
     ]
    }
   ],
   "source": [
    "#Print number of line\n",
    "total_rows = len(df.index)+1\n",
    "print('- Number of total rows:'+str(total_rows))\n",
    "\n",
    "#I remove duplicates\n",
    "nd_df = df.duplicated() #nd stands for not duplicates\n",
    "\n",
    "#I check if have been removed duplicates\n",
    "if nd_df.sum() == 0:\n",
    "    print('- No Duplicates found!')\n",
    "\n",
    "#Check if it counts correct the duplicates for othercolumns\n",
    "test_duplicate = df.head().duplicated('Sex') \n",
    "\n",
    "if test_duplicate.sum() == 0:\n",
    "    print('- No Duplicates found!')\n",
    "    print('')\n",
    "else:\n",
    "    print('- I found the following duplicates in the \"df.head\" print out, for Sex column: '+str(test_duplicate.sum()))\n",
    "    print('')\n"
   ]
  },
  {
   "cell_type": "code",
   "execution_count": 12,
   "metadata": {
    "collapsed": false
   },
   "outputs": [
    {
     "name": "stdout",
     "output_type": "stream",
     "text": [
      "Header sample extraction from the clean dataset (Drop of PassengerId,Name,Ticket,Cabin,Fare,Embarked columns): \n"
     ]
    },
    {
     "data": {
      "text/html": [
       "<div>\n",
       "<table border=\"1\" class=\"dataframe\">\n",
       "  <thead>\n",
       "    <tr style=\"text-align: right;\">\n",
       "      <th></th>\n",
       "      <th>Survived</th>\n",
       "      <th>Pclass</th>\n",
       "      <th>Sex</th>\n",
       "      <th>Age</th>\n",
       "      <th>SibSp</th>\n",
       "      <th>Parch</th>\n",
       "    </tr>\n",
       "  </thead>\n",
       "  <tbody>\n",
       "    <tr>\n",
       "      <th>0</th>\n",
       "      <td>0</td>\n",
       "      <td>3</td>\n",
       "      <td>male</td>\n",
       "      <td>22.0</td>\n",
       "      <td>1</td>\n",
       "      <td>0</td>\n",
       "    </tr>\n",
       "    <tr>\n",
       "      <th>1</th>\n",
       "      <td>1</td>\n",
       "      <td>1</td>\n",
       "      <td>female</td>\n",
       "      <td>38.0</td>\n",
       "      <td>1</td>\n",
       "      <td>0</td>\n",
       "    </tr>\n",
       "    <tr>\n",
       "      <th>2</th>\n",
       "      <td>1</td>\n",
       "      <td>3</td>\n",
       "      <td>female</td>\n",
       "      <td>26.0</td>\n",
       "      <td>0</td>\n",
       "      <td>0</td>\n",
       "    </tr>\n",
       "    <tr>\n",
       "      <th>3</th>\n",
       "      <td>1</td>\n",
       "      <td>1</td>\n",
       "      <td>female</td>\n",
       "      <td>35.0</td>\n",
       "      <td>1</td>\n",
       "      <td>0</td>\n",
       "    </tr>\n",
       "    <tr>\n",
       "      <th>4</th>\n",
       "      <td>0</td>\n",
       "      <td>3</td>\n",
       "      <td>male</td>\n",
       "      <td>35.0</td>\n",
       "      <td>0</td>\n",
       "      <td>0</td>\n",
       "    </tr>\n",
       "  </tbody>\n",
       "</table>\n",
       "</div>"
      ],
      "text/plain": [
       "   Survived  Pclass     Sex   Age  SibSp  Parch\n",
       "0         0       3    male  22.0      1      0\n",
       "1         1       1  female  38.0      1      0\n",
       "2         1       3  female  26.0      0      0\n",
       "3         1       1  female  35.0      1      0\n",
       "4         0       3    male  35.0      0      0"
      ]
     },
     "execution_count": 12,
     "metadata": {},
     "output_type": "execute_result"
    }
   ],
   "source": [
    "#Create the new dataset as a subset of the columns I need\n",
    "clean_df =df.drop(['PassengerId','Name','Ticket','Cabin','Fare','Embarked'], axis=1)\n",
    "\n",
    "#I check the result. 'clean_df' will be the main dataframe used within the entire project\n",
    "print('Header sample extraction from the clean dataset (Drop of PassengerId,Name,Ticket,Cabin,Fare,Embarked columns): ')\n",
    "clean_df.head()"
   ]
  },
  {
   "cell_type": "code",
   "execution_count": 14,
   "metadata": {
    "collapsed": false
   },
   "outputs": [
    {
     "name": "stdout",
     "output_type": "stream",
     "text": [
      "Number of missing Age (NaN values) over all the dataset:\n"
     ]
    },
    {
     "data": {
      "text/plain": [
       "Survived      0\n",
       "Pclass        0\n",
       "Sex           0\n",
       "Age         177\n",
       "SibSp         0\n",
       "Parch         0\n",
       "dtype: int64"
      ]
     },
     "execution_count": 14,
     "metadata": {},
     "output_type": "execute_result"
    }
   ],
   "source": [
    "#I check if I have NaN values\n",
    "print('Number of missing Age (NaN values) over all the dataset:')\n",
    "clean_df.isnull().sum()\n"
   ]
  },
  {
   "cell_type": "code",
   "execution_count": 15,
   "metadata": {
    "collapsed": false
   },
   "outputs": [
    {
     "name": "stdout",
     "output_type": "stream",
     "text": [
      "- Total number of female without age: 53\n",
      "- Total number of male without age: 124\n",
      "- Number of total rows: 892\n",
      "% of Lines which are missing an Age: 20%\n",
      "\n",
      "Sample of lines extracted to show the NaN age values:\n"
     ]
    },
    {
     "data": {
      "text/html": [
       "<div>\n",
       "<table border=\"1\" class=\"dataframe\">\n",
       "  <thead>\n",
       "    <tr style=\"text-align: right;\">\n",
       "      <th></th>\n",
       "      <th>Survived</th>\n",
       "      <th>Pclass</th>\n",
       "      <th>Sex</th>\n",
       "      <th>Age</th>\n",
       "      <th>SibSp</th>\n",
       "      <th>Parch</th>\n",
       "    </tr>\n",
       "  </thead>\n",
       "  <tbody>\n",
       "    <tr>\n",
       "      <th>5</th>\n",
       "      <td>0</td>\n",
       "      <td>3</td>\n",
       "      <td>male</td>\n",
       "      <td>NaN</td>\n",
       "      <td>0</td>\n",
       "      <td>0</td>\n",
       "    </tr>\n",
       "    <tr>\n",
       "      <th>17</th>\n",
       "      <td>1</td>\n",
       "      <td>2</td>\n",
       "      <td>male</td>\n",
       "      <td>NaN</td>\n",
       "      <td>0</td>\n",
       "      <td>0</td>\n",
       "    </tr>\n",
       "    <tr>\n",
       "      <th>19</th>\n",
       "      <td>1</td>\n",
       "      <td>3</td>\n",
       "      <td>female</td>\n",
       "      <td>NaN</td>\n",
       "      <td>0</td>\n",
       "      <td>0</td>\n",
       "    </tr>\n",
       "    <tr>\n",
       "      <th>26</th>\n",
       "      <td>0</td>\n",
       "      <td>3</td>\n",
       "      <td>male</td>\n",
       "      <td>NaN</td>\n",
       "      <td>0</td>\n",
       "      <td>0</td>\n",
       "    </tr>\n",
       "    <tr>\n",
       "      <th>28</th>\n",
       "      <td>1</td>\n",
       "      <td>3</td>\n",
       "      <td>female</td>\n",
       "      <td>NaN</td>\n",
       "      <td>0</td>\n",
       "      <td>0</td>\n",
       "    </tr>\n",
       "  </tbody>\n",
       "</table>\n",
       "</div>"
      ],
      "text/plain": [
       "    Survived  Pclass     Sex  Age  SibSp  Parch\n",
       "5          0       3    male  NaN      0      0\n",
       "17         1       2    male  NaN      0      0\n",
       "19         1       3  female  NaN      0      0\n",
       "26         0       3    male  NaN      0      0\n",
       "28         1       3  female  NaN      0      0"
      ]
     },
     "execution_count": 15,
     "metadata": {},
     "output_type": "execute_result"
    }
   ],
   "source": [
    "#Unfortunately we are missing AGE data, which could influence our analysis. \n",
    "#In %, this means that we miss:\n",
    "line_missing_percent = round((177*100/(total_rows)))\n",
    "\n",
    "# Review some of the missing Age data\n",
    "#Number of NaN values\n",
    "age_null = pd.isnull(clean_df['Age'])\n",
    "#Number of Females without age on board\n",
    "how_many_female_no_age = clean_df[age_null]['Sex'] == 'female'\n",
    "#Number of Males without age on board\n",
    "how_many_male_no_age = clean_df[age_null]['Sex'] == 'male'\n",
    "\n",
    "print('- Total number of female without age: '+str(how_many_female_no_age.sum()))\n",
    "print('- Total number of male without age: '+str(how_many_male_no_age.sum()))\n",
    "print('- Number of total rows: '+str(total_rows))\n",
    "print('% of Lines which are missing an Age: '+str(line_missing_percent)+'%')\n",
    "print('')\n",
    "print('Sample of lines extracted to show the NaN age values:')\n",
    "clean_df[age_null].head()\n",
    "\n"
   ]
  },
  {
   "cell_type": "markdown",
   "metadata": {},
   "source": [
    "***Comment:***\n",
    "The 20% of missing ages will impact the calculation of the AVG related the Age of the people in Board and it can make unreliable the consideration based on the Age distribution. By the way we will try to apply an analysis about the Age as the last point (Question D.)"
   ]
  },
  {
   "cell_type": "code",
   "execution_count": 17,
   "metadata": {
    "collapsed": false
   },
   "outputs": [
    {
     "name": "stdout",
     "output_type": "stream",
     "text": [
      "Statistic Descriptive table of our dataset:\n"
     ]
    },
    {
     "data": {
      "text/html": [
       "<div>\n",
       "<table border=\"1\" class=\"dataframe\">\n",
       "  <thead>\n",
       "    <tr style=\"text-align: right;\">\n",
       "      <th></th>\n",
       "      <th>Survived</th>\n",
       "      <th>Pclass</th>\n",
       "      <th>Age</th>\n",
       "      <th>SibSp</th>\n",
       "      <th>Parch</th>\n",
       "    </tr>\n",
       "  </thead>\n",
       "  <tbody>\n",
       "    <tr>\n",
       "      <th>count</th>\n",
       "      <td>891.000000</td>\n",
       "      <td>891.000000</td>\n",
       "      <td>714.000000</td>\n",
       "      <td>891.000000</td>\n",
       "      <td>891.000000</td>\n",
       "    </tr>\n",
       "    <tr>\n",
       "      <th>mean</th>\n",
       "      <td>0.383838</td>\n",
       "      <td>2.308642</td>\n",
       "      <td>29.699118</td>\n",
       "      <td>0.523008</td>\n",
       "      <td>0.381594</td>\n",
       "    </tr>\n",
       "    <tr>\n",
       "      <th>std</th>\n",
       "      <td>0.486592</td>\n",
       "      <td>0.836071</td>\n",
       "      <td>14.526497</td>\n",
       "      <td>1.102743</td>\n",
       "      <td>0.806057</td>\n",
       "    </tr>\n",
       "    <tr>\n",
       "      <th>min</th>\n",
       "      <td>0.000000</td>\n",
       "      <td>1.000000</td>\n",
       "      <td>0.420000</td>\n",
       "      <td>0.000000</td>\n",
       "      <td>0.000000</td>\n",
       "    </tr>\n",
       "    <tr>\n",
       "      <th>25%</th>\n",
       "      <td>0.000000</td>\n",
       "      <td>2.000000</td>\n",
       "      <td>20.125000</td>\n",
       "      <td>0.000000</td>\n",
       "      <td>0.000000</td>\n",
       "    </tr>\n",
       "    <tr>\n",
       "      <th>50%</th>\n",
       "      <td>0.000000</td>\n",
       "      <td>3.000000</td>\n",
       "      <td>28.000000</td>\n",
       "      <td>0.000000</td>\n",
       "      <td>0.000000</td>\n",
       "    </tr>\n",
       "    <tr>\n",
       "      <th>75%</th>\n",
       "      <td>1.000000</td>\n",
       "      <td>3.000000</td>\n",
       "      <td>38.000000</td>\n",
       "      <td>1.000000</td>\n",
       "      <td>0.000000</td>\n",
       "    </tr>\n",
       "    <tr>\n",
       "      <th>max</th>\n",
       "      <td>1.000000</td>\n",
       "      <td>3.000000</td>\n",
       "      <td>80.000000</td>\n",
       "      <td>8.000000</td>\n",
       "      <td>6.000000</td>\n",
       "    </tr>\n",
       "  </tbody>\n",
       "</table>\n",
       "</div>"
      ],
      "text/plain": [
       "         Survived      Pclass         Age       SibSp       Parch\n",
       "count  891.000000  891.000000  714.000000  891.000000  891.000000\n",
       "mean     0.383838    2.308642   29.699118    0.523008    0.381594\n",
       "std      0.486592    0.836071   14.526497    1.102743    0.806057\n",
       "min      0.000000    1.000000    0.420000    0.000000    0.000000\n",
       "25%      0.000000    2.000000   20.125000    0.000000    0.000000\n",
       "50%      0.000000    3.000000   28.000000    0.000000    0.000000\n",
       "75%      1.000000    3.000000   38.000000    1.000000    0.000000\n",
       "max      1.000000    3.000000   80.000000    8.000000    6.000000"
      ]
     },
     "execution_count": 17,
     "metadata": {},
     "output_type": "execute_result"
    }
   ],
   "source": [
    "#No that we have cleaned the data set we start to have a look to the descriptive statistics parameter automatically\n",
    "#Caculated by the .describe method\n",
    "print('Statistic Descriptive table of our dataset:')\n",
    "clean_df.describe()"
   ]
  },
  {
   "cell_type": "code",
   "execution_count": 19,
   "metadata": {
    "collapsed": false
   },
   "outputs": [
    {
     "name": "stdout",
     "output_type": "stream",
     "text": [
      "Extreme values of our dataset:\n",
      "- Oldest survived age: 80.0\n",
      "- Youngest survived age: 0.42\n",
      "- Oldest died age: 74.0\n",
      "- Younget died age: 1.0\n",
      "- Number of survived under 4 years old: 20\n"
     ]
    }
   ],
   "source": [
    "#By a first sight we can notice that the range of Age is quite wide:\n",
    "print('Extreme values of our dataset:')\n",
    "print('- Oldest survived age: '+str(clean_df[clean_df['Survived']==1]['Age'].max()))\n",
    "print('- Youngest survived age: '+str(clean_df[clean_df['Survived']==1]['Age'].min()))\n",
    "print('- Oldest died age: '+str(clean_df[clean_df['Survived']==0]['Age'].max()))\n",
    "print('- Younget died age: '+str(clean_df[clean_df['Survived']==0]['Age'].min()))\n",
    "print('- Number of survived under 4 years old: '+str(clean_df.loc[(clean_df['Age'] < 4) & clean_df['Survived'] == 1]['Age'].count()))"
   ]
  },
  {
   "cell_type": "markdown",
   "metadata": {},
   "source": [
    "***Comment:***\n",
    "As visible we have some extrame case of survived people under the 4 years old: if we had a complete vision of the Ages (we know we missed around 177 ages values) I would have analyzed the possibility to see if it could be a link between survivors and age over 4 years threashold based on the following study:\n",
    "\n",
    "- http://www.bluewaveswim.co.uk/blog/popular/whats-the-best-age-for-a-child-to-begin-swimming-lessons\n",
    "\n",
    "The oldest survived is 80 years old and the yungest under 1 years old. \n",
    "At the same time the oldest died is 74 years old an the yungest is 1 years old."
   ]
  },
  {
   "cell_type": "markdown",
   "metadata": {},
   "source": [
    "## We start the resolution of our questions"
   ]
  },
  {
   "cell_type": "markdown",
   "metadata": {},
   "source": [
    "## Question A:\n",
    "## Does the survival rate depend on the social status (SES)?"
   ]
  },
  {
   "cell_type": "code",
   "execution_count": 28,
   "metadata": {
    "collapsed": false
   },
   "outputs": [
    {
     "name": "stdout",
     "output_type": "stream",
     "text": [
      "-----------------------------------\n",
      "----------Summary results----------\n",
      "-----------------------------------\n",
      "Class 1 - Male. % of survivors:36.9\n",
      "Class 1 - Female. % of survivors:96.8\n",
      "Class 1 - Male. % of dead:63.1\n",
      "Class 1 - Female. % of dead:3.2\n",
      "-----------------------------------\n",
      "Class 2 - Male. % of survivors:15.7\n",
      "Class 2 - Female. % of survivors:92.1\n",
      "Class 2 - Male. % of dead:84.3\n",
      "Class 2 - Female. % of dead:7.9\n",
      "-----------------------------------\n",
      "Class 3 - Male. % of survivors:13.5\n",
      "Class 3 - Female. % of survivors:50.0\n",
      "Class 3 - Male. % of dead:86.5\n",
      "Class 3 - Female. % of dead:50.0\n",
      "-----------------------------------\n",
      "Overall CLASS 1 % Survivors Vs Not Survived: 63.0% Vs 37.0%\n",
      "Overall CLASS 2 % Survivors Vs Not Survived: 47.3% Vs 52.7%\n",
      "Overall CLASS 3 % Survivors Vs Not Survived: 24.2% Vs 75.8%\n",
      "-----------------------------------------------------------\n",
      "Legenda: 1-> Upper class, 2-> Middle class, 3-> Lower class\n",
      "-----------------------------------------------------------\n"
     ]
    },
    {
     "data": {
      "image/png": "[encoded data removed]",
      "text/plain": [
       "<matplotlib.figure.Figure at 0xaf7afd0>"
      ]
     },
     "metadata": {},
     "output_type": "display_data"
    },
    {
     "data": {
      "image/png": "[encoded data removed]",
      "text/plain": [
       "<matplotlib.figure.Figure at 0xd21a9b0>"
      ]
     },
     "metadata": {},
     "output_type": "display_data"
    }
   ],
   "source": [
    "#we proceed to calculate the rate of survivals grouped by sex and class status. In order to do this we\n",
    "#create a function which can return us the numer per class and sex in %. \n",
    "#After this we proceed to print out the results and the graphs\n",
    "#Test code to see the results of grouping method:\n",
    "#clean_df.groupby(['Pclass','Survived','Sex']).size()[1,1,'female'].astype('double') -> return number of alive,1st class female in double format\n",
    "#clean_df.groupby(['Pclass','Survived','Sex']).size()[1,1,'male'].astype('double') -> return number of alive,1st class male in double format\n",
    "\n",
    "def percent_of_survivors(Pclass,Sex):\n",
    "    #we calculate the total people of the given sex and class\n",
    "    total = clean_df.groupby(['Pclass','Sex']).size()[Pclass,Sex].astype('double')\n",
    "    #we calculate the survived\n",
    "    survived = clean_df.groupby(['Pclass','Survived','Sex']).size()[Pclass,1,Sex].astype('double')\n",
    "    percent_of_survivors = (survived/total*100).round(1)\n",
    "    return percent_of_survivors\n",
    "    \n",
    "def percent_of_dead(Pclass,Sex):\n",
    "    #we calculate the total people of the given sex and class\n",
    "    total = clean_df.groupby(['Pclass','Sex']).size()[Pclass,Sex].astype('double')\n",
    "    #we the people who died\n",
    "    dead = clean_df.groupby(['Pclass','Survived','Sex']).size()[Pclass,0,Sex].astype('double')\n",
    "    percent_of_dead = (dead/total*100).round(1)\n",
    "    return percent_of_dead\n",
    "\n",
    "#I create a dedicate couple of functions to calculate survivors vs died people overall\n",
    "def percent_of_survivors_overall(Pclass):\n",
    "    #we calculate the total people of the given sex and class\n",
    "    total = clean_df.groupby(['Pclass']).size()[Pclass].astype('double')\n",
    "    #we calculate the survived\n",
    "    survived = clean_df.groupby(['Pclass','Survived']).size()[Pclass,1].astype('double')\n",
    "    percent_of_survivors_overall = (survived/total*100).round(1)\n",
    "    return percent_of_survivors_overall\n",
    "\n",
    "def percent_of_not_survivors_overall(Pclass):\n",
    "    #we calculate the total people of the given sex and class\n",
    "    total = clean_df.groupby(['Pclass']).size()[Pclass].astype('double')\n",
    "    #we calculate the survived\n",
    "    survived = clean_df.groupby(['Pclass','Survived']).size()[Pclass,0].astype('double')\n",
    "    percent_of_not_survivors_overall = (survived/total*100).round(1)\n",
    "    return percent_of_not_survivors_overall\n",
    "\n",
    "print('-----------------------------------')\n",
    "print('----------Summary results----------')\n",
    "print('-----------------------------------')\n",
    "print('Class 1 - Male. % of survivors:'+str(percent_of_survivors(1,'male')))\n",
    "print('Class 1 - Female. % of survivors:'+str(percent_of_survivors(1,'female')))\n",
    "print('Class 1 - Male. % of dead:'+str(percent_of_dead(1,'male')))\n",
    "print('Class 1 - Female. % of dead:'+str(percent_of_dead(1,'female')))\n",
    "print('-----------------------------------')\n",
    "print('Class 2 - Male. % of survivors:'+str(percent_of_survivors(2,'male')))\n",
    "print('Class 2 - Female. % of survivors:'+str(percent_of_survivors(2,'female')))\n",
    "print('Class 2 - Male. % of dead:'+str(percent_of_dead(2,'male')))\n",
    "print('Class 2 - Female. % of dead:'+str(percent_of_dead(2,'female')))\n",
    "print('-----------------------------------')\n",
    "print('Class 3 - Male. % of survivors:'+str(percent_of_survivors(3,'male')))\n",
    "print('Class 3 - Female. % of survivors:'+str(percent_of_survivors(3,'female')))\n",
    "print('Class 3 - Male. % of dead:'+str(percent_of_dead(3,'male')))\n",
    "print('Class 3 - Female. % of dead:'+str(percent_of_dead(3,'female')))\n",
    "print('-----------------------------------')\n",
    "\n",
    "\n",
    "#Graph01: we Grouped by sex, survival status and class\n",
    "gr01 = sns.factorplot(x=\"Sex\", y=\"Survived\", col=\"Pclass\",data=clean_df,kind=\"bar\",ci=None,aspect=.6,size=6,saturation=.9)\n",
    "\n",
    "#title of the graph\n",
    "gr01.fig.suptitle('Rate of Survivors per Sex (Split in 3 Classes)', fontsize=20,y=1.05)\n",
    "\n",
    "#Graph01: label of the axes\n",
    "(gr01.set_axis_labels('', 'Rate of Survivors')\n",
    "     .set_xticklabels([\"Men\", \"Women\"])\n",
    "     .set(ylim=(0, 1))\n",
    "     .set_titles(\"Class {col_name}\")\n",
    "     .despine(left=True, bottom=True))\n",
    "\n",
    "#Graph02: we count the passengers which survived, by class and sex\n",
    "gr02 = sns.factorplot('Survived', col='Sex', hue='Pclass', data=clean_df, kind='count',aspect=.6,size=8,saturation=.9)\n",
    "\n",
    "#title of the graph\n",
    "gr02.fig.suptitle('Rate of Survivors per Class (Men/Women)', fontsize=20,y=1.05)\n",
    "\n",
    "# Fix up the labels\n",
    "(gr02.set_axis_labels('Number of Suvivors', 'N. Passengers')\n",
    "    .set_xticklabels([\"Died\", \"Survived\"])\n",
    "    .set_titles('{col_name}')\n",
    ")\n",
    "\n",
    "\n",
    "\n",
    "print('Overall CLASS 1 % Survivors Vs Not Survived: '+str(percent_of_survivors_overall(1))+'% Vs '+str(percent_of_not_survivors_overall(1))+'%')\n",
    "print('Overall CLASS 2 % Survivors Vs Not Survived: '+str(percent_of_survivors_overall(2))+'% Vs '+str(percent_of_not_survivors_overall(2))+'%')\n",
    "print('Overall CLASS 3 % Survivors Vs Not Survived: '+str(percent_of_survivors_overall(3))+'% Vs '+str(percent_of_not_survivors_overall(3))+'%')\n",
    "print('-----------------------------------------------------------')\n",
    "print('Legenda: 1-> Upper class, 2-> Middle class, 3-> Lower class')\n",
    "print('-----------------------------------------------------------')\n",
    "\n"
   ]
  },
  {
   "cell_type": "markdown",
   "metadata": {},
   "source": [
    "***Comment:***\n",
    "Having a look to the results it appers that the rate of survivals among the 3 classes appear similar, by the way taking a look to the overall numbers:\n",
    "\n",
    "- Overall CLASS 1 % Survivors Vs Not Survived: **63.0% Vs 37.0%**\n",
    "- Overall CLASS 2 % Survivors Vs Not Survived: **47.3% Vs 52.7%**\n",
    "- Overall CLASS 3 % Survivors Vs Not Survived: **24.2% Vs 75.8%**\n",
    "\n",
    "we could presume that passenger from Class 1 had more chance to survive (>2 times) than passenger in class 3, so probably the **SES was a valid factor to discriminate between survived and not.**"
   ]
  },
  {
   "cell_type": "markdown",
   "metadata": {},
   "source": [
    "## Question B:\n",
    "## Did a specific category (Men/Women/Children)have more chances to survive?"
   ]
  },
  {
   "cell_type": "code",
   "execution_count": 29,
   "metadata": {
    "collapsed": false
   },
   "outputs": [
    {
     "name": "stdout",
     "output_type": "stream",
     "text": [
      "I expect no lines with NULL Age value: 0\n",
      "I expect only lines with NOT NULL Age value: 714\n"
     ]
    },
    {
     "data": {
      "image/png": "[encoded data removed]",
      "text/plain": [
       "<matplotlib.figure.Figure at 0x919c9e8>"
      ]
     },
     "metadata": {},
     "output_type": "display_data"
    }
   ],
   "source": [
    "#In this case we have to label the category children considering that our dataset doesn´t cointain \n",
    "#any information about how to discriminate an Adult (men/women) vs a Child.\n",
    "\n",
    "#Assumpiton\n",
    "#Adult_Man: everybody with age > 18 years old, Man\n",
    "#Adult_Woman: everybody with age > 18 years old, Female\n",
    "#Children: everybod with age =<18 Female or Male\n",
    "\n",
    "#I create a Purely label-location based indexer for selection by label. In this case oue labels will be like the \n",
    "#categories in the assumption\n",
    "\n",
    "\n",
    "#we clean the dataframe from the Age NULL and we create a dataframe cointaining only line with age not null\n",
    "#We check the null value on spot:\n",
    "age_null = pd.isnull(clean_df['Age'])\n",
    "clean_df[age_null].head()\n",
    "\n",
    "#we create the new dataframe with no age null value\n",
    "clean_age_df = clean_df[np.isfinite(clean_df['Age'])]\n",
    "new_age_null= pd.isnull(clean_age_df['Age'])\n",
    "print(\"I expect no lines with NULL Age value: \"+str(clean_age_df[new_age_null]['Age'].count()))\n",
    "print(\"I expect only lines with NOT NULL Age value: \"+str(clean_age_df['Age'].count()))\n",
    "\n",
    "#clean_df[clean_df['Survived']==1]['Age'].isnull()\n",
    "\n",
    "#I create the label the different category\n",
    "clean_age_df.loc[((clean_age_df['Sex'] == 'male')&(clean_age_df['Age'] > 18)),'Cat'] = 'Adul Man'\n",
    "clean_age_df.loc[((clean_age_df['Sex'] == 'female')&(clean_age_df['Age'] > 18)),'Cat'] = 'Adult Woman'\n",
    "clean_age_df.loc[((clean_age_df['Age'] <= 18)),'Cat'] = 'Children'\n",
    "clean_age_df.loc[((clean_age_df['Survived'] == 0)),'Status'] = 'Not Survived'\n",
    "clean_age_df.loc[((clean_age_df['Survived'] == 1)),'Status'] = 'Survived'\n",
    "\n",
    "clean_age_df.groupby(['Cat','Status']).size()\n",
    "\n",
    "#I create the Graph to compare how many Men, Women and Children are survived\n",
    "gr03 = sns.factorplot('Survived', col='Cat', data=clean_age_df, kind='count', size=6, aspect=.6,saturation=.9)\n",
    "\n",
    "#title of the graph\n",
    "gr03.fig.suptitle('Number of Survivors per Age Class', fontsize=20,y=1.05)\n",
    "\n",
    "#I set up the labels of the graph\n",
    "(gr03.set_axis_labels('How many Survivors', 'Number of Passengers').set_xticklabels(['Died', 'Survived']))\n",
    "\n",
    "titles = ['Adult Man', 'Adult Woman', 'Children']\n",
    "for z1, title in zip(gr03.axes.flat, titles):\n",
    "    z1.set_title(title)\n"
   ]
  },
  {
   "cell_type": "code",
   "execution_count": null,
   "metadata": {
    "collapsed": true
   },
   "outputs": [],
   "source": []
  },
  {
   "cell_type": "markdown",
   "metadata": {},
   "source": [
    "***Comment:***\n",
    "Looking at the graph we could say that the probably ***women and children had more chanche to survive than adult men*** by the way we have put the hypotesis that 18 is a reasonable age to consider somebody adult: The Adult age has shifted many times in the history of humanity (or simply think the \"adults\" who today can get merried in India or similar country where 11/12 years old are already \"reasonable\" thhreasholds to consider somebody adult or not).\n",
    "Of course these kind of social \"agreements\" can influence a lot the result of our considerations.\n"
   ]
  },
  {
   "cell_type": "markdown",
   "metadata": {},
   "source": [
    "\n",
    "## Question C:\n",
    "## Did married women have better survival rate Vs not married women? Was the Sex type relevant?\n"
   ]
  },
  {
   "cell_type": "code",
   "execution_count": 32,
   "metadata": {
    "collapsed": false
   },
   "outputs": [
    {
     "name": "stdout",
     "output_type": "stream",
     "text": [
      "------------Summary Table------------\n",
      "Total number of Women found: 314\n",
      "Number of Women grouped by Family Status  Status      \n",
      "Married        Not Survived     44\n",
      "               Survived         96\n",
      "Not Married    Not Survived     37\n",
      "               Survived        137\n",
      "dtype: int64\n",
      "-------------------------------------\n"
     ]
    },
    {
     "data": {
      "image/png": "[encoded data removed]",
      "text/plain": [
       "<matplotlib.figure.Figure at 0xcbcf4e0>"
      ]
     },
     "metadata": {},
     "output_type": "display_data"
    }
   ],
   "source": [
    "#I create a dataset with only women\n",
    "clean_df_only_female=clean_df[clean_df['Sex']=='female']\n",
    "\n",
    "#sibsp -> # of siblings / spouses aboard the Titanic. If 0->not married\n",
    "clean_df_only_female.loc[(clean_df['SibSp'] == 0),'Family Status'] = 'Not Married'\n",
    "clean_df_only_female.loc[(clean_df['SibSp'] != 0),'Family Status'] = 'Married'\n",
    "clean_df_only_female.loc[((clean_df['Survived'] == 0)),'Status'] = 'Not Survived'\n",
    "clean_df_only_female.loc[((clean_df['Survived'] == 1)),'Status'] = 'Survived'\n",
    "\n",
    "print('------------Summary Table------------')\n",
    "print('Total number of Women found: '+str(clean_df_only_female['Sex'].count()))\n",
    "print('Number of Women grouped by '+str(clean_df_only_female.groupby(['Family Status','Status']).size()))\n",
    "print('-------------------------------------')\n",
    "\n",
    "#I create the Graph to compare how many Women merried Vs Not Married are survived\n",
    "gr04 = sns.factorplot('Survived', col='Family Status', data=clean_df_only_female, kind='count', size=6, aspect=.6,saturation=.9)\n",
    "\n",
    "#I set up the labels of the graph\n",
    "(gr04.set_axis_labels('How many Female Survivors', 'Number of Female Passengers').set_xticklabels(['Died', 'Survived']))\n",
    "\n",
    "#title of the graph\n",
    "gr04.fig.suptitle('Number of Women survived per Family Status', fontsize=20,y=1.05)\n",
    "\n",
    "titles = ['Married', 'Not Married']\n",
    "for z2, title in zip(gr04.axes.flat, titles):\n",
    "    z2.set_title(title)  "
   ]
  },
  {
   "cell_type": "code",
   "execution_count": null,
   "metadata": {
    "collapsed": true
   },
   "outputs": [],
   "source": []
  },
  {
   "cell_type": "code",
   "execution_count": null,
   "metadata": {
    "collapsed": true
   },
   "outputs": [],
   "source": []
  },
  {
   "cell_type": "markdown",
   "metadata": {},
   "source": [
    "***Comment:***\n",
    "As visible by the graph we could hipotetically think that ***Not Married Women had more chance to survive (graph shows ~30% almost more survived)***. In my mind this could be linked to the fact that married women can be slowered down in their process to escape because they wanted to fin the husband/Relatives or can be linked to the hunsand's decision where to go/how to escape. It is interesting to do the same analysis for the Men:"
   ]
  },
  {
   "cell_type": "code",
   "execution_count": 34,
   "metadata": {
    "collapsed": false
   },
   "outputs": [
    {
     "name": "stdout",
     "output_type": "stream",
     "text": [
      "------------Summary Table------------\n",
      "Total number of men found: 577\n",
      "Number of men grouped by: Family Status  Status      \n",
      "Married        Not Survived    107\n",
      "               Survived         36\n",
      "Not Married    Not Survived    361\n",
      "               Survived         73\n",
      "dtype: int64\n",
      "-------------------------------------\n"
     ]
    },
    {
     "data": {
      "image/png": "[encoded data removed]",
      "text/plain": [
       "<matplotlib.figure.Figure at 0xc68a470>"
      ]
     },
     "metadata": {},
     "output_type": "display_data"
    }
   ],
   "source": [
    "#I create a dataset with only men\n",
    "clean_df_only_male=clean_df[clean_df['Sex']=='male']\n",
    "\n",
    "#sibsp -> # of siblings / spouses aboard the Titanic. If 0->not married\n",
    "clean_df_only_male.loc[(clean_df['SibSp'] == 0),'Family Status'] = 'Not Married'\n",
    "clean_df_only_male.loc[(clean_df['SibSp'] != 0),'Family Status'] = 'Married'\n",
    "clean_df_only_male.loc[((clean_df['Survived'] == 0)),'Status'] = 'Not Survived'\n",
    "clean_df_only_male.loc[((clean_df['Survived'] == 1)),'Status'] = 'Survived'\n",
    "\n",
    "print('------------Summary Table------------')\n",
    "print('Total number of men found: '+str(clean_df_only_male['Sex'].count()))\n",
    "print('Number of men grouped by: '+str(clean_df_only_male.groupby(['Family Status','Status']).size()))\n",
    "print('-------------------------------------')\n",
    "\n",
    "\n",
    "#I create the Graph to compare how many men merried Vs Not Married are survived\n",
    "gr05 = sns.factorplot('Survived', col='Family Status', data=clean_df_only_male, kind='count', size=6, aspect=.6,saturation=.9)\n",
    "\n",
    "#title of the graph\n",
    "gr05.fig.suptitle('Number of Men survived per Family Status', fontsize=20,y=1.05)\n",
    "\n",
    "#I set up the labels of the graph\n",
    "(gr05.set_axis_labels('How many Male Survivors', 'Number of male Passengers').set_xticklabels(['Died', 'Survived']))\n",
    "\n",
    "titles = ['Married', 'Not Married']\n",
    "for z3, title in zip(gr05.axes.flat, titles):\n",
    "    z3.set_title(title)  "
   ]
  },
  {
   "cell_type": "markdown",
   "metadata": {},
   "source": [
    "***Comment:***\n",
    "We notice practically and inverted situation: at that time Men were taking care of women so probably the majority of them preferrend to sacrifice himself to permit women to be safe."
   ]
  },
  {
   "cell_type": "code",
   "execution_count": 36,
   "metadata": {
    "collapsed": false
   },
   "outputs": [
    {
     "name": "stdout",
     "output_type": "stream",
     "text": [
      "Total number of Female: 314\n",
      "Total number of Male: 577\n",
      "\n",
      "------------Summary Table------------\n",
      "Percentage of Male Not Survived: 81.1\n",
      "Percentage of Male Survived: 18.9\n",
      "Percentage of Female Not Survived: 25.8\n",
      "Percentage of Female Survived: 74.2\n",
      "-------------------------------------\n"
     ]
    },
    {
     "data": {
      "image/png": "[encoded data removed]",
      "text/plain": [
       "<matplotlib.figure.Figure at 0xc5dcac8>"
      ]
     },
     "metadata": {},
     "output_type": "display_data"
    }
   ],
   "source": [
    "#We evaluate if the the Sex was relevant to be in the calss of survivors:\n",
    "print('Total number of Female: '+str(clean_df_only_female['Sex'].count()))\n",
    "print('Total number of Male: '+str(clean_df_only_male['Sex'].count()))\n",
    "print('')\n",
    "def percent_of_dead(Sex):\n",
    "    #we calculate the total people of the given sex and class\n",
    "    total = clean_df.groupby(['Sex']).size()[Sex].astype('double')\n",
    "    #we calculate the people who died\n",
    "    dead = clean_df.groupby(['Survived','Sex']).size()[0,Sex].astype('double')\n",
    "    percent_of_dead = (dead/total*100).round(1)\n",
    "    return percent_of_dead\n",
    "\n",
    "def percent_of_survived(Sex):\n",
    "    #we calculate the total people of the given sex and class\n",
    "    total = clean_df.groupby(['Sex']).size()[Sex].astype('double')\n",
    "    #we calculate the people who died\n",
    "    alive = clean_df.groupby(['Survived','Sex']).size()[1,Sex].astype('double')\n",
    "    percent_of_survived = (alive/total*100).round(1)\n",
    "    return percent_of_survived\n",
    "\n",
    "print('------------Summary Table------------')\n",
    "print(\"Percentage of Male Not Survived: \"+str(percent_of_dead('male')))\n",
    "print(\"Percentage of Male Survived: \"+str(percent_of_survived('male')))\n",
    "print(\"Percentage of Female Not Survived: \"+str(percent_of_dead('female')))\n",
    "print(\"Percentage of Female Survived: \"+str(percent_of_survived('female')))\n",
    "print('-------------------------------------')\n",
    "\n",
    "\n",
    "clean_df.loc[((clean_df['Survived'] == 0)),'Status_All'] = 'Not Survived'\n",
    "clean_df.loc[((clean_df['Survived'] == 1)),'Status_All'] = 'Survived'\n",
    "\n",
    "#I create the Graph to compare how many men merried Vs Not Married are survived\n",
    "gr06 = sns.factorplot('Survived', col='Sex', data=clean_df, kind='count', size=6, aspect=.6,saturation=.9)\n",
    "\n",
    "#title of the graph\n",
    "gr06.fig.suptitle('Number of Passengers survived split by Sex', fontsize=20,y=1.05)\n",
    "\n",
    "#I set up the labels of the graph\n",
    "(gr06.set_axis_labels('How many (overall) Survivors', 'Number Passengers').set_xticklabels(['Died', 'Survived']))\n",
    "\n",
    "titles = ['Male', 'Female']\n",
    "for z4, title in zip(gr06.axes.flat, titles):\n",
    "    z4.set_title(title) \n",
    "\n"
   ]
  },
  {
   "cell_type": "markdown",
   "metadata": {},
   "source": [
    "***Comment:***\n",
    "In the end we can presume that ***being a Women*** and possibly ***being Not Married Women*** permitted to have more chance to survive!"
   ]
  },
  {
   "cell_type": "markdown",
   "metadata": {},
   "source": [
    "## Question D:\n",
    "## Was the age relavant to increase their chances of survival?"
   ]
  },
  {
   "cell_type": "code",
   "execution_count": 40,
   "metadata": {
    "collapsed": false
   },
   "outputs": [
    {
     "name": "stdout",
     "output_type": "stream",
     "text": [
      "-------Summary Table--------\n",
      "- Total number of female without age: 53\n",
      "- Total number of male without age: 124\n",
      "- Number of total rows: 892\n",
      "- % of Lines which are missing an Age: 20%\n",
      "- Total Survived: 290\n",
      "- Total Died: 424\n",
      "- AVG Survived: 1.0\n",
      "- AVG Died: 0.0\n",
      "----------------------------\n"
     ]
    },
    {
     "data": {
      "text/plain": [
       "<seaborn.axisgrid.FacetGrid at 0xc4f52e8>"
      ]
     },
     "execution_count": 40,
     "metadata": {},
     "output_type": "execute_result"
    },
    {
     "data": {
      "image/png": "[encoded data removed]",
      "text/plain": [
       "<matplotlib.figure.Figure at 0xc5117f0>"
      ]
     },
     "metadata": {},
     "output_type": "display_data"
    }
   ],
   "source": [
    "#As analized before we have some lines where the Age is missing. In this case we assume to remove \n",
    "#these lines and we consider them not \"relevant\"\n",
    "#For the scope of the investigation. We ignore in this investigation the impact of Sex and Class analyzed before.\n",
    "\n",
    "#Calculation in % of lines, in which we miss the Age:\n",
    "line_missing_percent = round((177*100/(total_rows)))\n",
    "\n",
    "# Review some of the missing Age data\n",
    "#Number of NaN values\n",
    "age_null = pd.isnull(clean_df['Age'])\n",
    "#Number of female on board\n",
    "how_many_female_no_age = clean_df[age_null]['Sex'] == 'female'\n",
    "#Number of Male on board\n",
    "how_many_male_no_age = clean_df[age_null]['Sex'] == 'male'\n",
    "print('-------Summary Table--------')\n",
    "print('- Total number of female without age: '+str(how_many_female_no_age.sum()))\n",
    "print('- Total number of male without age: '+str(how_many_male_no_age.sum()))\n",
    "print('- Number of total rows: '+str(total_rows))\n",
    "print('- % of Lines which are missing an Age: '+str(line_missing_percent)+'%')\n",
    "#clean_df[age_null].head()\n",
    "\n",
    "#Drop the NaN values\n",
    "clean_df_only_not_null_age = clean_df.dropna()\n",
    "clean_df_only_not_null_age.head()\n",
    "\n",
    "#Total number of survivors and not\n",
    "total_survived = clean_df_only_not_null_age[clean_df_only_not_null_age['Survived'] == 1]['Survived'].count()\n",
    "total_died = clean_df_only_not_null_age[clean_df_only_not_null_age['Survived'] == 0]['Survived'].count()\n",
    "\n",
    "#We calculate the AVG of the passengers Survived/Died on baord after our cleansing:\n",
    "avg_survived = clean_df_only_not_null_age[clean_df_only_not_null_age['Survived'] == 1]['Survived'].mean()\n",
    "avg_died = clean_df_only_not_null_age[clean_df_only_not_null_age['Survived'] == 0]['Survived'].mean()\n",
    "print('- Total Survived: '+str(total_survived ))\n",
    "print('- Total Died: '+str(total_died ))\n",
    "print('- AVG Survived: '+str(avg_survived ))\n",
    "print('- AVG Died: '+str(avg_died ))\n",
    "print('----------------------------')\n",
    "\n",
    "#I render the graph\n",
    "gr07 = sns.factorplot(x=\"Survived\", y=\"Age\", hue='Sex', data=clean_df_only_not_null_age, kind=\"box\", size=8, aspect=.6,saturation=.9)\n",
    "\n",
    "#title of the graph\n",
    "gr07.fig.suptitle('AVG of Passengers survived split by Sex', fontsize=20,y=1.05)\n",
    "\n",
    "\n",
    "# Fix up the labels\n",
    "(gr07.set_axis_labels('Suvivors', 'Age').set_xticklabels([\"Died\", \"Survived\"]))"
   ]
  },
  {
   "cell_type": "markdown",
   "metadata": {},
   "source": [
    "***Comments:***\n",
    "By looking at the generated graph generated we notice that the AVG of ages, it is in line for all shown categories (~ around 30 years old) and we could presume that probably the age seems not to be a factor which impacted on the passengers survival rate.\n",
    "\n"
   ]
  },
  {
   "cell_type": "markdown",
   "metadata": {},
   "source": [
    "## Conclusion:\n",
    "My analisys brought to visible results, but we can highlight some limitation or concernigs about the sample. As anticipated in the header of the project the sample has been compound by 'demographics and passenger information from 891 of the 2224 passengers and crew on board the Titanic'. We do not know the criteria of this selection and we do not know how the sample was extracted: the entire popularion is more than double of the sample and what if we have:\n",
    "\n",
    "- Not equally selected rappresentative of all Passengers types (per Sex, per Class??)\n",
    "- discovered that the Missing Age (20% in our sample) is not so high in the entire population (5%? 8%?): Maybe this could have permitted us to do more specific analysis expanding the possibility of deducations.\n",
    "- we did not selected in equal proportion, maybe by random selection per categoriey, passengers and crew?\n",
    "\n",
    "It is important once we have access to a population of Data and we want to apply the \"scientific method\" to analyze them, define the right criteria do select the subset. Unfortunatly the worng criteria of sample selection can lead us to wrong concluson, true for the sample, but not for the population.\n"
   ]
  },
  {
   "cell_type": "markdown",
   "metadata": {},
   "source": [
    "## Support Links:\n",
    "    \n",
    "- https://de.udacity.com/\n",
    "- https://github.com/\n",
    "- https://stackoverflow.com/\n",
    "- https://docs.python.org/3/library/index.html\n",
    "\n",
    "*** Completed by Daniele Salvigni (daniele.salvigni@airbus.com) ***\n",
    "*** thank you ***\n"
   ]
  }
 ],
 "metadata": {
  "kernelspec": {
   "display_name": "Python 3",
   "language": "python",
   "name": "python3"
  },
  "language_info": {
   "codemirror_mode": {
    "name": "ipython",
    "version": 3
   },
   "file_extension": ".py",
   "mimetype": "text/x-python",
   "name": "python",
   "nbconvert_exporter": "python",
   "pygments_lexer": "ipython3",
   "version": "3.6.0"
  }
 },
 "nbformat": 4,
 "nbformat_minor": 2
}
